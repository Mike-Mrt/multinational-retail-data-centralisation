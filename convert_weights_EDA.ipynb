{
 "cells": [
  {
   "cell_type": "code",
   "execution_count": 50,
   "metadata": {},
   "outputs": [],
   "source": [
    "import data_extraction\n",
    "import pandas as pd\n",
    "import numpy as np\n",
    "\n",
    "testing = data_extraction.DataExtractor()\n",
    "df_products = testing.extract_from_s3('s3://data-handling-public/products.csv')"
   ]
  },
  {
   "cell_type": "code",
   "execution_count": 5,
   "metadata": {},
   "outputs": [
    {
     "data": {
      "text/html": [
       "<div>\n",
       "<style scoped>\n",
       "    .dataframe tbody tr th:only-of-type {\n",
       "        vertical-align: middle;\n",
       "    }\n",
       "\n",
       "    .dataframe tbody tr th {\n",
       "        vertical-align: top;\n",
       "    }\n",
       "\n",
       "    .dataframe thead th {\n",
       "        text-align: right;\n",
       "    }\n",
       "</style>\n",
       "<table border=\"1\" class=\"dataframe\">\n",
       "  <thead>\n",
       "    <tr style=\"text-align: right;\">\n",
       "      <th></th>\n",
       "      <th>product_name</th>\n",
       "      <th>product_price</th>\n",
       "      <th>weight</th>\n",
       "      <th>category</th>\n",
       "      <th>EAN</th>\n",
       "      <th>date_added</th>\n",
       "      <th>uuid</th>\n",
       "      <th>removed</th>\n",
       "      <th>product_code</th>\n",
       "    </tr>\n",
       "    <tr>\n",
       "      <th>index</th>\n",
       "      <th></th>\n",
       "      <th></th>\n",
       "      <th></th>\n",
       "      <th></th>\n",
       "      <th></th>\n",
       "      <th></th>\n",
       "      <th></th>\n",
       "      <th></th>\n",
       "      <th></th>\n",
       "    </tr>\n",
       "  </thead>\n",
       "  <tbody>\n",
       "    <tr>\n",
       "      <th>0</th>\n",
       "      <td>FurReal Dazzlin' Dimples My Playful Dolphin</td>\n",
       "      <td>£39.99</td>\n",
       "      <td>1.6kg</td>\n",
       "      <td>toys-and-games</td>\n",
       "      <td>7425710935115</td>\n",
       "      <td>2005-12-02</td>\n",
       "      <td>83dc0a69-f96f-4c34-bcb7-928acae19a94</td>\n",
       "      <td>Still_avaliable</td>\n",
       "      <td>R7-3126933h</td>\n",
       "    </tr>\n",
       "    <tr>\n",
       "      <th>1</th>\n",
       "      <td>Tiffany's World Day Out At The Park</td>\n",
       "      <td>£12.99</td>\n",
       "      <td>0.48kg</td>\n",
       "      <td>toys-and-games</td>\n",
       "      <td>487128731892</td>\n",
       "      <td>2006-01-09</td>\n",
       "      <td>712254d7-aea7-4310-aff8-8bcdd0aec7ff</td>\n",
       "      <td>Still_avaliable</td>\n",
       "      <td>C2-7287916l</td>\n",
       "    </tr>\n",
       "    <tr>\n",
       "      <th>2</th>\n",
       "      <td>Tiffany's World Pups Picnic Playset</td>\n",
       "      <td>£7.00</td>\n",
       "      <td>590g</td>\n",
       "      <td>toys-and-games</td>\n",
       "      <td>1945816904649</td>\n",
       "      <td>1997-03-29</td>\n",
       "      <td>b089ef6f-b628-4e37-811d-fffe0102ba64</td>\n",
       "      <td>Still_avaliable</td>\n",
       "      <td>S7-1175877v</td>\n",
       "    </tr>\n",
       "    <tr>\n",
       "      <th>3</th>\n",
       "      <td>Tiffany's World Wildlife Park Adventures</td>\n",
       "      <td>£12.99</td>\n",
       "      <td>540g</td>\n",
       "      <td>toys-and-games</td>\n",
       "      <td>1569790890899</td>\n",
       "      <td>2013-03-20</td>\n",
       "      <td>d55de422-8b98-47d6-9991-e4bc4c5c0cb0</td>\n",
       "      <td>Removed</td>\n",
       "      <td>D8-8421505n</td>\n",
       "    </tr>\n",
       "    <tr>\n",
       "      <th>4</th>\n",
       "      <td>Cosatto Cosy Dolls Pram</td>\n",
       "      <td>£30.00</td>\n",
       "      <td>1.91kg</td>\n",
       "      <td>toys-and-games</td>\n",
       "      <td>7142740213920</td>\n",
       "      <td>2007-12-23</td>\n",
       "      <td>7945b657-cb02-4cc5-96cf-f65ed0a8f235</td>\n",
       "      <td>Still_avaliable</td>\n",
       "      <td>B6-2596063a</td>\n",
       "    </tr>\n",
       "  </tbody>\n",
       "</table>\n",
       "</div>"
      ],
      "text/plain": [
       "                                      product_name product_price  weight  \\\n",
       "index                                                                      \n",
       "0      FurReal Dazzlin' Dimples My Playful Dolphin        £39.99   1.6kg   \n",
       "1              Tiffany's World Day Out At The Park        £12.99  0.48kg   \n",
       "2              Tiffany's World Pups Picnic Playset         £7.00    590g   \n",
       "3         Tiffany's World Wildlife Park Adventures        £12.99    540g   \n",
       "4                          Cosatto Cosy Dolls Pram        £30.00  1.91kg   \n",
       "\n",
       "             category            EAN  date_added  \\\n",
       "index                                              \n",
       "0      toys-and-games  7425710935115  2005-12-02   \n",
       "1      toys-and-games   487128731892  2006-01-09   \n",
       "2      toys-and-games  1945816904649  1997-03-29   \n",
       "3      toys-and-games  1569790890899  2013-03-20   \n",
       "4      toys-and-games  7142740213920  2007-12-23   \n",
       "\n",
       "                                       uuid          removed product_code  \n",
       "index                                                                      \n",
       "0      83dc0a69-f96f-4c34-bcb7-928acae19a94  Still_avaliable  R7-3126933h  \n",
       "1      712254d7-aea7-4310-aff8-8bcdd0aec7ff  Still_avaliable  C2-7287916l  \n",
       "2      b089ef6f-b628-4e37-811d-fffe0102ba64  Still_avaliable  S7-1175877v  \n",
       "3      d55de422-8b98-47d6-9991-e4bc4c5c0cb0          Removed  D8-8421505n  \n",
       "4      7945b657-cb02-4cc5-96cf-f65ed0a8f235  Still_avaliable  B6-2596063a  "
      ]
     },
     "execution_count": 5,
     "metadata": {},
     "output_type": "execute_result"
    }
   ],
   "source": [
    "df_products.head()"
   ]
  },
  {
   "cell_type": "code",
   "execution_count": 3,
   "metadata": {},
   "outputs": [
    {
     "data": {
      "text/plain": [
       "2.9kg      30\n",
       "200g       30\n",
       "2.4kg      26\n",
       "100g       22\n",
       "250g       21\n",
       "           ..\n",
       "0.86kg      1\n",
       "1.75kg      1\n",
       "0.443kg     1\n",
       "2.565kg     1\n",
       "134g        1\n",
       "Name: weight, Length: 483, dtype: int64"
      ]
     },
     "execution_count": 3,
     "metadata": {},
     "output_type": "execute_result"
    }
   ],
   "source": [
    "df_products['weight'].value_counts()"
   ]
  },
  {
   "cell_type": "code",
   "execution_count": 51,
   "metadata": {},
   "outputs": [],
   "source": [
    "def convert_product_weights(df_products):\n",
    "    for i, row in df_products.iterrows():\n",
    "        weight = row['weight']\n",
    "        if 'kg' in weight:\n",
    "            weight_kg = float(weight.replace('kg', ''))\n",
    "        elif 'g' in weight:\n",
    "            if 'x' in weight:\n",
    "                num_packets, packet_weight = weight.split(' x ')\n",
    "                weight_kg = float(num_packets) * float(packet_weight) / 1000\n",
    "            else:\n",
    "                weight_kg = float(weight.replace('g', '')) / 1000\n",
    "        elif 'ml' in weight:\n",
    "            weight_kg = float(weight.replace('ml', '')) / 1000\n",
    "        elif 'oz' in weight:\n",
    "            weight_kg = float(weight.replace('oz','')) / 35.274\n",
    "        else:\n",
    "            df_products = df_products.drop(i)\n",
    "            continue\n",
    "\n",
    "        df_products.at[i, 'weight'] = weight_kg\n",
    "            \n",
    "\n",
    "    return df_products"
   ]
  },
  {
   "cell_type": "code",
   "execution_count": 52,
   "metadata": {},
   "outputs": [
    {
     "ename": "TypeError",
     "evalue": "argument of type 'float' is not iterable",
     "output_type": "error",
     "traceback": [
      "\u001b[0;31m---------------------------------------------------------------------------\u001b[0m",
      "\u001b[0;31mTypeError\u001b[0m                                 Traceback (most recent call last)",
      "Cell \u001b[0;32mIn [52], line 1\u001b[0m\n\u001b[0;32m----> 1\u001b[0m convert_product_weights(df_products)\n",
      "Cell \u001b[0;32mIn [51], line 4\u001b[0m, in \u001b[0;36mconvert_product_weights\u001b[0;34m(df_products)\u001b[0m\n\u001b[1;32m      2\u001b[0m \u001b[39mfor\u001b[39;00m i, row \u001b[39min\u001b[39;00m df_products\u001b[39m.\u001b[39miterrows():\n\u001b[1;32m      3\u001b[0m     weight \u001b[39m=\u001b[39m row[\u001b[39m'\u001b[39m\u001b[39mweight\u001b[39m\u001b[39m'\u001b[39m]\n\u001b[0;32m----> 4\u001b[0m     \u001b[39mif\u001b[39;00m \u001b[39m'\u001b[39;49m\u001b[39mkg\u001b[39;49m\u001b[39m'\u001b[39;49m \u001b[39min\u001b[39;49;00m weight:\n\u001b[1;32m      5\u001b[0m         weight_kg \u001b[39m=\u001b[39m \u001b[39mfloat\u001b[39m(weight\u001b[39m.\u001b[39mreplace(\u001b[39m'\u001b[39m\u001b[39mkg\u001b[39m\u001b[39m'\u001b[39m, \u001b[39m'\u001b[39m\u001b[39m'\u001b[39m))\n\u001b[1;32m      6\u001b[0m     \u001b[39melif\u001b[39;00m \u001b[39m'\u001b[39m\u001b[39mg\u001b[39m\u001b[39m'\u001b[39m \u001b[39min\u001b[39;00m weight:\n",
      "\u001b[0;31mTypeError\u001b[0m: argument of type 'float' is not iterable"
     ]
    }
   ],
   "source": [
    "convert_product_weights(df_products)"
   ]
  },
  {
   "cell_type": "code",
   "execution_count": 25,
   "metadata": {},
   "outputs": [
    {
     "name": "stdout",
     "output_type": "stream",
     "text": [
      "0 1.6\n",
      "1 0.48\n",
      "2 0.59\n",
      "3 0.54\n",
      "4 1.91\n"
     ]
    }
   ],
   "source": [
    "# locating all rows where weight has NULL values and there are 3 which entire row is NULL\n",
    "null_values_df = df_stores_data[(df_stores_data['country_code']=='NULL')]\n"
   ]
  },
  {
   "cell_type": "code",
   "execution_count": 39,
   "metadata": {},
   "outputs": [],
   "source": [
    "# dropping the above rows from the df\n",
    "df_stores_data = df_stores_data.drop(null_values_df.index)"
   ]
  },
  {
   "cell_type": "code",
   "execution_count": 53,
   "metadata": {},
   "outputs": [],
   "source": [
    "df_products.to_csv('weights_adjusted.csv', index=True)"
   ]
  },
  {
   "cell_type": "code",
   "execution_count": null,
   "metadata": {},
   "outputs": [],
   "source": []
  }
 ],
 "metadata": {
  "kernelspec": {
   "display_name": "base",
   "language": "python",
   "name": "python3"
  },
  "language_info": {
   "codemirror_mode": {
    "name": "ipython",
    "version": 3
   },
   "file_extension": ".py",
   "mimetype": "text/x-python",
   "name": "python",
   "nbconvert_exporter": "python",
   "pygments_lexer": "ipython3",
   "version": "3.9.12"
  },
  "orig_nbformat": 4,
  "vscode": {
   "interpreter": {
    "hash": "e8d3c120015de8db85a9d1895539fee80a7625eb9cdbbd28cb48911946c7f5a9"
   }
  }
 },
 "nbformat": 4,
 "nbformat_minor": 2
}
