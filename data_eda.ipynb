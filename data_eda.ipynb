{
 "cells": [
  {
   "cell_type": "code",
   "execution_count": 64,
   "metadata": {},
   "outputs": [],
   "source": [
    "import database_utils\n",
    "import data_extraction\n",
    "import pandas as pd\n",
    "import yaml\n",
    "\n",
    "testing = data_extraction.DataExtractor()\n",
    "db_connector = database_utils.DatabaseConnector()\n",
    "db_connector.read_db_creds()\n",
    "db_connector.init_db_creds()\n",
    "df_testing = testing.read_rds_table('legacy_users', db_connector)"
   ]
  },
  {
   "cell_type": "code",
   "execution_count": 65,
   "metadata": {},
   "outputs": [
    {
     "name": "stdout",
     "output_type": "stream",
     "text": [
      "<class 'pandas.core.frame.DataFrame'>\n",
      "Int64Index: 15320 entries, 0 to 1249\n",
      "Data columns (total 11 columns):\n",
      " #   Column         Non-Null Count  Dtype \n",
      "---  ------         --------------  ----- \n",
      " 0   first_name     15320 non-null  object\n",
      " 1   last_name      15320 non-null  object\n",
      " 2   date_of_birth  15320 non-null  object\n",
      " 3   company        15320 non-null  object\n",
      " 4   email_address  15320 non-null  object\n",
      " 5   address        15320 non-null  object\n",
      " 6   country        15320 non-null  object\n",
      " 7   country_code   15320 non-null  object\n",
      " 8   phone_number   15320 non-null  object\n",
      " 9   join_date      15320 non-null  object\n",
      " 10  user_uuid      15320 non-null  object\n",
      "dtypes: object(11)\n",
      "memory usage: 1.4+ MB\n"
     ]
    },
    {
     "data": {
      "text/html": [
       "<div>\n",
       "<style scoped>\n",
       "    .dataframe tbody tr th:only-of-type {\n",
       "        vertical-align: middle;\n",
       "    }\n",
       "\n",
       "    .dataframe tbody tr th {\n",
       "        vertical-align: top;\n",
       "    }\n",
       "\n",
       "    .dataframe thead th {\n",
       "        text-align: right;\n",
       "    }\n",
       "</style>\n",
       "<table border=\"1\" class=\"dataframe\">\n",
       "  <thead>\n",
       "    <tr style=\"text-align: right;\">\n",
       "      <th></th>\n",
       "      <th>first_name</th>\n",
       "      <th>last_name</th>\n",
       "      <th>date_of_birth</th>\n",
       "      <th>company</th>\n",
       "      <th>email_address</th>\n",
       "      <th>address</th>\n",
       "      <th>country</th>\n",
       "      <th>country_code</th>\n",
       "      <th>phone_number</th>\n",
       "      <th>join_date</th>\n",
       "      <th>user_uuid</th>\n",
       "    </tr>\n",
       "    <tr>\n",
       "      <th>index</th>\n",
       "      <th></th>\n",
       "      <th></th>\n",
       "      <th></th>\n",
       "      <th></th>\n",
       "      <th></th>\n",
       "      <th></th>\n",
       "      <th></th>\n",
       "      <th></th>\n",
       "      <th></th>\n",
       "      <th></th>\n",
       "      <th></th>\n",
       "    </tr>\n",
       "  </thead>\n",
       "  <tbody>\n",
       "    <tr>\n",
       "      <th>0</th>\n",
       "      <td>Sigfried</td>\n",
       "      <td>Noack</td>\n",
       "      <td>1990-09-30</td>\n",
       "      <td>Heydrich Junitz KG</td>\n",
       "      <td>rudi79@winkler.de</td>\n",
       "      <td>Zimmerstr. 1/0\\n59015 Gießen</td>\n",
       "      <td>Germany</td>\n",
       "      <td>DE</td>\n",
       "      <td>+49(0) 047905356</td>\n",
       "      <td>2018-10-10</td>\n",
       "      <td>93caf182-e4e9-4c6e-bebb-60a1a9dcf9b8</td>\n",
       "    </tr>\n",
       "    <tr>\n",
       "      <th>1</th>\n",
       "      <td>Guy</td>\n",
       "      <td>Allen</td>\n",
       "      <td>1940-12-01</td>\n",
       "      <td>Fox Ltd</td>\n",
       "      <td>rhodesclifford@henderson.com</td>\n",
       "      <td>Studio 22a\\nLynne terrace\\nMcCarthymouth\\nTF0 9GH</td>\n",
       "      <td>United Kingdom</td>\n",
       "      <td>GB</td>\n",
       "      <td>(0161) 496 0674</td>\n",
       "      <td>2001-12-20</td>\n",
       "      <td>8fe96c3a-d62d-4eb5-b313-cf12d9126a49</td>\n",
       "    </tr>\n",
       "    <tr>\n",
       "      <th>2</th>\n",
       "      <td>Harry</td>\n",
       "      <td>Lawrence</td>\n",
       "      <td>1995-08-02</td>\n",
       "      <td>Johnson, Jones and Harris</td>\n",
       "      <td>glen98@bryant-marshall.co.uk</td>\n",
       "      <td>92 Ann drive\\nJoanborough\\nSK0 6LR</td>\n",
       "      <td>United Kingdom</td>\n",
       "      <td>GB</td>\n",
       "      <td>+44(0)121 4960340</td>\n",
       "      <td>2016-12-16</td>\n",
       "      <td>fc461df4-b919-48b2-909e-55c95a03fe6b</td>\n",
       "    </tr>\n",
       "    <tr>\n",
       "      <th>3</th>\n",
       "      <td>Darren</td>\n",
       "      <td>Hussain</td>\n",
       "      <td>1972-09-23</td>\n",
       "      <td>Wheeler LLC</td>\n",
       "      <td>daniellebryan@thompson.org</td>\n",
       "      <td>19 Robinson meadow\\nNew Tracy\\nW22 2QG</td>\n",
       "      <td>United Kingdom</td>\n",
       "      <td>GB</td>\n",
       "      <td>(0306) 999 0871</td>\n",
       "      <td>2004-02-23</td>\n",
       "      <td>6104719f-ef14-4b09-bf04-fb0c4620acb0</td>\n",
       "    </tr>\n",
       "    <tr>\n",
       "      <th>4</th>\n",
       "      <td>Garry</td>\n",
       "      <td>Stone</td>\n",
       "      <td>1952-12-20</td>\n",
       "      <td>Warner Inc</td>\n",
       "      <td>billy14@long-warren.com</td>\n",
       "      <td>3 White pass\\nHunterborough\\nNN96 4UE</td>\n",
       "      <td>United Kingdom</td>\n",
       "      <td>GB</td>\n",
       "      <td>0121 496 0225</td>\n",
       "      <td>2006-09-01</td>\n",
       "      <td>9523a6d3-b2dd-4670-a51a-36aebc89f579</td>\n",
       "    </tr>\n",
       "  </tbody>\n",
       "</table>\n",
       "</div>"
      ],
      "text/plain": [
       "      first_name last_name date_of_birth                    company  \\\n",
       "index                                                                 \n",
       "0       Sigfried     Noack    1990-09-30         Heydrich Junitz KG   \n",
       "1            Guy     Allen    1940-12-01                    Fox Ltd   \n",
       "2          Harry  Lawrence    1995-08-02  Johnson, Jones and Harris   \n",
       "3         Darren   Hussain    1972-09-23                Wheeler LLC   \n",
       "4          Garry     Stone    1952-12-20                 Warner Inc   \n",
       "\n",
       "                      email_address  \\\n",
       "index                                 \n",
       "0                 rudi79@winkler.de   \n",
       "1      rhodesclifford@henderson.com   \n",
       "2      glen98@bryant-marshall.co.uk   \n",
       "3        daniellebryan@thompson.org   \n",
       "4           billy14@long-warren.com   \n",
       "\n",
       "                                                 address         country  \\\n",
       "index                                                                      \n",
       "0                           Zimmerstr. 1/0\\n59015 Gießen         Germany   \n",
       "1      Studio 22a\\nLynne terrace\\nMcCarthymouth\\nTF0 9GH  United Kingdom   \n",
       "2                     92 Ann drive\\nJoanborough\\nSK0 6LR  United Kingdom   \n",
       "3                 19 Robinson meadow\\nNew Tracy\\nW22 2QG  United Kingdom   \n",
       "4                  3 White pass\\nHunterborough\\nNN96 4UE  United Kingdom   \n",
       "\n",
       "      country_code       phone_number   join_date  \\\n",
       "index                                               \n",
       "0               DE   +49(0) 047905356  2018-10-10   \n",
       "1               GB    (0161) 496 0674  2001-12-20   \n",
       "2               GB  +44(0)121 4960340  2016-12-16   \n",
       "3               GB    (0306) 999 0871  2004-02-23   \n",
       "4               GB      0121 496 0225  2006-09-01   \n",
       "\n",
       "                                  user_uuid  \n",
       "index                                        \n",
       "0      93caf182-e4e9-4c6e-bebb-60a1a9dcf9b8  \n",
       "1      8fe96c3a-d62d-4eb5-b313-cf12d9126a49  \n",
       "2      fc461df4-b919-48b2-909e-55c95a03fe6b  \n",
       "3      6104719f-ef14-4b09-bf04-fb0c4620acb0  \n",
       "4      9523a6d3-b2dd-4670-a51a-36aebc89f579  "
      ]
     },
     "execution_count": 65,
     "metadata": {},
     "output_type": "execute_result"
    }
   ],
   "source": [
    "df_testing.set_index('index', inplace=True)\n",
    "df_testing.info()\n",
    "df_testing.head()"
   ]
  },
  {
   "cell_type": "code",
   "execution_count": 66,
   "metadata": {},
   "outputs": [
    {
     "data": {
      "text/plain": [
       "United Kingdom    9371\n",
       "Germany           4708\n",
       "United States     1205\n",
       "NULL                21\n",
       "GMRBOMI0O1           1\n",
       "7ZNO5EBALT           1\n",
       "3518UD5CE8           1\n",
       "RQRB7RMTAD           1\n",
       "PNRMPSYR1J           1\n",
       "5EFAFD0JLI           1\n",
       "YOTSVPRBQ7           1\n",
       "50KUU3PQUF           1\n",
       "EWE3U0DZIV           1\n",
       "XN9NGL5C0B           1\n",
       "S0E37H52ON           1\n",
       "XGI7FM0VBJ           1\n",
       "AJ1ENKS3QL           1\n",
       "I7G4DMDZOZ           1\n",
       "T4WBZSW0XI           1\n",
       "Name: country, dtype: int64"
      ]
     },
     "execution_count": 66,
     "metadata": {},
     "output_type": "execute_result"
    }
   ],
   "source": [
    "df_testing['country'].value_counts()"
   ]
  },
  {
   "cell_type": "code",
   "execution_count": 67,
   "metadata": {},
   "outputs": [
    {
     "name": "stdout",
     "output_type": "stream",
     "text": [
      "       first_name   last_name date_of_birth     company email_address  \\\n",
      "index                                                                   \n",
      "752    PYCLKLLC7I  W350SCUD6R    KBTI7FI7Y3  R7IZUNSQX0    3Q791B3VIY   \n",
      "1047   GI4C78KWH0  UTB5PPYFG8    OFH8YGZJWN  CA1XGS8GZW    7HSZB429UK   \n",
      "2997   DPAJNJL6PR  B8ZGN8ZJ84    PQPEUO937L  0YJ2FRMDB4    O5Q6D7FDAF   \n",
      "3539   E5139W1FJ3  X88YLZX0JX    7KGJ3C5TSW  648S19YUFF    BYU3R2LQF8   \n",
      "5309   XKDVQD7BH2  4YSEX8AY1Z    RQTF5XSXP4  GKJZ58DTHT    789HWCYC7M   \n",
      "6426   EI10BU4INS  SH6Y92V6IK    D2OZZHWOLK  LNFBRXXUT4    TFEA83AAHP   \n",
      "8398   I7IJDAPMIM  LUNRZWUKRB    QTVEU5TR8H  JXKOHA5B8F    JK2J6N4DLG   \n",
      "9026   TG6PAO2RAB  PIG6VAZUPM    L3E8OV4UAC  ROL0IMK6UH    EIV7XWUJ8I   \n",
      "10224  VCQL3ML6ZT  HULT86HONJ    TLSTUEIKI0  QSS0MWBGFZ    1WNILGM5MK   \n",
      "10373  G1SI2RM0KA  67VJEE6DS2    YTC82GP4XE  M4Z6M30SJ3    U1AZKY6URZ   \n",
      "11381  31XQ1Z35J9  8LR57D7RZ0    O1LIA1MT1N  66V9WU2HU1    XASHXWHN80   \n",
      "12197  2GU3G97VI1  91RL47Q2WC    RQI3KQXFBQ  D4KULDKYME    YM2YGPR8W1   \n",
      "13135  F3LGJ1NZ0I  IXWSZZ2VPN    1IA43NTJFB  9WSM9X17XK    M5ZDMLPP45   \n",
      "14124  DD0K0FUDRY  Q9U9JNG44F    M7HZECVQVC  DJXWS4B52O    X29OBIYMTI   \n",
      "14523  YWM71XYN17  PYC56FDP4V    6WAQ2SVK0Q  WGP4NBYFT6    6VIJ9KJU8P   \n",
      "\n",
      "          address     country country_code phone_number   join_date  \\\n",
      "index                                                                 \n",
      "752    YW2YXLOQ5J  I7G4DMDZOZ   VSM4IZ4EL3   A4Q4HQBI3I  JJ2PDVNPRO   \n",
      "1047   63GXGYR3XL  AJ1ENKS3QL   QVUW9JSKY3   64ZO0ONUQO  AHN6EKASH3   \n",
      "2997   Y1GY1G3EM5  XGI7FM0VBJ   0CU6LW3NKB   DU9UJ42F3E  FYF2FAPZF3   \n",
      "3539   GOWRW4JCE7  S0E37H52ON   PG8MOC0UZI   LJ6H5XBD2A  QH6Z9ZPX37   \n",
      "5309   KJW5WR7W16  XN9NGL5C0B   NTCGYW8LVC   MUXPJD0BZY  LYVWXBBI6F   \n",
      "6426   XGYW43ZF8B  50KUU3PQUF   FB13AKRI21   GA2YQ189FL  DM4Q84QZ03   \n",
      "8398   FW3EMRJ25W  EWE3U0DZIV   OS2P9CMHR6   G2D0EI6DT3  DOKMYDVV6L   \n",
      "9026   KHJLOAKCW2  GMRBOMI0O1   5D74J6FPFJ   65I9CX7VF2  YBUYH8T6OE   \n",
      "10224  R4HMRLEIXV  YOTSVPRBQ7   LZGTB0T5Z7   6VGTZ6ANEA  SRH5SM36LH   \n",
      "10373  N9D1AYQOJ0  5EFAFD0JLI   IM8MN1L9MJ   Y0AKRC4TUP  4JIOCHZY0W   \n",
      "11381  NZDOEJPB2M  PNRMPSYR1J   RVRFD92E48   CLGG66L3JK  3CUODA3HTC   \n",
      "12197  4M2VPXJHBE  RQRB7RMTAD   XKI9UXSCZ1   35OGAP18JU  8BAER2328P   \n",
      "13135  W5VT0DOEKO  3518UD5CE8   QREF9WLI2A   EIP7YUL5CE  U9CRKSTONU   \n",
      "14124  8EK3ZFIGXL  7ZNO5EBALT   XPVCZE2L8B   XBL6JO9DU6  9YLGYDEZNV   \n",
      "14523  NI3KEEZPTY  T4WBZSW0XI   44YAIDY048   QVAV1H2QVH  7PF0SMLXII   \n",
      "\n",
      "        user_uuid  \n",
      "index              \n",
      "752    W43MSCMQ88  \n",
      "1047   BUE34OU973  \n",
      "2997   56URKLG01W  \n",
      "3539   A1W2TVMK1S  \n",
      "5309   LNRNI6X6VL  \n",
      "6426   23WTQ63AET  \n",
      "8398   8FB8XB78NQ  \n",
      "9026   HEGG0N3ICG  \n",
      "10224  AKXDQ62K1V  \n",
      "10373  7JTCX4UVLK  \n",
      "11381  C7N3K5VF9U  \n",
      "12197  YIBFXQLD4A  \n",
      "13135  55II6WK8D2  \n",
      "14124  1YOGCW4V46  \n",
      "14523  7PYPXC0PPN  \n"
     ]
    }
   ],
   "source": [
    "# viewing all the rows with values in the country column that looks like incorrect information\n",
    "incorrect_info = df_testing[(df_testing['country'] == 'GMRBOMI0O1') | (df_testing['country'] == '7ZNO5EBALT') | (df_testing['country'] == '3518UD5CE8') | (df_testing['country'] == 'RQRB7RMTAD') | (df_testing['country'] == 'PNRMPSYR1J') | (df_testing['country'] == '5EFAFD0JLI') | (df_testing['country'] == 'YOTSVPRBQ7') | (df_testing['country'] == '50KUU3PQUF') | (df_testing['country'] == 'EWE3U0DZIV') | (df_testing['country'] == 'XN9NGL5C0B') | (df_testing['country'] == 'S0E37H52ON') | (df_testing['country'] == 'XGI7FM0VBJ') | (df_testing['country'] == 'AJ1ENKS3QL') | (df_testing['country'] == 'I7G4DMDZOZ') | (df_testing['country'] == 'T4WBZSW0XI')]\n",
    "print(incorrect_info)"
   ]
  },
  {
   "cell_type": "code",
   "execution_count": 68,
   "metadata": {},
   "outputs": [
    {
     "data": {
      "text/plain": [
       "United Kingdom    9371\n",
       "Germany           4708\n",
       "United States     1205\n",
       "NULL                21\n",
       "Name: country, dtype: int64"
      ]
     },
     "execution_count": 68,
     "metadata": {},
     "output_type": "execute_result"
    }
   ],
   "source": [
    "# now dropping all of the rows from incorrect_info df from the df_testing, using the index column to get the indexes of the rows i want to drop:\n",
    "df_testing = df_testing.drop(incorrect_info.index)\n",
    "df_testing['country'].value_counts()"
   ]
  },
  {
   "cell_type": "code",
   "execution_count": 69,
   "metadata": {},
   "outputs": [
    {
     "data": {
      "text/html": [
       "<div>\n",
       "<style scoped>\n",
       "    .dataframe tbody tr th:only-of-type {\n",
       "        vertical-align: middle;\n",
       "    }\n",
       "\n",
       "    .dataframe tbody tr th {\n",
       "        vertical-align: top;\n",
       "    }\n",
       "\n",
       "    .dataframe thead th {\n",
       "        text-align: right;\n",
       "    }\n",
       "</style>\n",
       "<table border=\"1\" class=\"dataframe\">\n",
       "  <thead>\n",
       "    <tr style=\"text-align: right;\">\n",
       "      <th></th>\n",
       "      <th>first_name</th>\n",
       "      <th>last_name</th>\n",
       "      <th>date_of_birth</th>\n",
       "      <th>company</th>\n",
       "      <th>email_address</th>\n",
       "      <th>address</th>\n",
       "      <th>country</th>\n",
       "      <th>country_code</th>\n",
       "      <th>phone_number</th>\n",
       "      <th>join_date</th>\n",
       "      <th>user_uuid</th>\n",
       "    </tr>\n",
       "    <tr>\n",
       "      <th>index</th>\n",
       "      <th></th>\n",
       "      <th></th>\n",
       "      <th></th>\n",
       "      <th></th>\n",
       "      <th></th>\n",
       "      <th></th>\n",
       "      <th></th>\n",
       "      <th></th>\n",
       "      <th></th>\n",
       "      <th></th>\n",
       "      <th></th>\n",
       "    </tr>\n",
       "  </thead>\n",
       "  <tbody>\n",
       "    <tr>\n",
       "      <th>0</th>\n",
       "      <td>Sigfried</td>\n",
       "      <td>Noack</td>\n",
       "      <td>1990-09-30</td>\n",
       "      <td>Heydrich Junitz KG</td>\n",
       "      <td>rudi79@winkler.de</td>\n",
       "      <td>Zimmerstr. 1/0\\n59015 Gießen</td>\n",
       "      <td>Germany</td>\n",
       "      <td>DE</td>\n",
       "      <td>+49(0) 047905356</td>\n",
       "      <td>2018-10-10</td>\n",
       "      <td>93caf182-e4e9-4c6e-bebb-60a1a9dcf9b8</td>\n",
       "    </tr>\n",
       "    <tr>\n",
       "      <th>1</th>\n",
       "      <td>Guy</td>\n",
       "      <td>Allen</td>\n",
       "      <td>1940-12-01</td>\n",
       "      <td>Fox Ltd</td>\n",
       "      <td>rhodesclifford@henderson.com</td>\n",
       "      <td>Studio 22a\\nLynne terrace\\nMcCarthymouth\\nTF0 9GH</td>\n",
       "      <td>United Kingdom</td>\n",
       "      <td>GB</td>\n",
       "      <td>(0161) 496 0674</td>\n",
       "      <td>2001-12-20</td>\n",
       "      <td>8fe96c3a-d62d-4eb5-b313-cf12d9126a49</td>\n",
       "    </tr>\n",
       "    <tr>\n",
       "      <th>2</th>\n",
       "      <td>Harry</td>\n",
       "      <td>Lawrence</td>\n",
       "      <td>1995-08-02</td>\n",
       "      <td>Johnson, Jones and Harris</td>\n",
       "      <td>glen98@bryant-marshall.co.uk</td>\n",
       "      <td>92 Ann drive\\nJoanborough\\nSK0 6LR</td>\n",
       "      <td>United Kingdom</td>\n",
       "      <td>GB</td>\n",
       "      <td>+44(0)121 4960340</td>\n",
       "      <td>2016-12-16</td>\n",
       "      <td>fc461df4-b919-48b2-909e-55c95a03fe6b</td>\n",
       "    </tr>\n",
       "    <tr>\n",
       "      <th>3</th>\n",
       "      <td>Darren</td>\n",
       "      <td>Hussain</td>\n",
       "      <td>1972-09-23</td>\n",
       "      <td>Wheeler LLC</td>\n",
       "      <td>daniellebryan@thompson.org</td>\n",
       "      <td>19 Robinson meadow\\nNew Tracy\\nW22 2QG</td>\n",
       "      <td>United Kingdom</td>\n",
       "      <td>GB</td>\n",
       "      <td>(0306) 999 0871</td>\n",
       "      <td>2004-02-23</td>\n",
       "      <td>6104719f-ef14-4b09-bf04-fb0c4620acb0</td>\n",
       "    </tr>\n",
       "    <tr>\n",
       "      <th>4</th>\n",
       "      <td>Garry</td>\n",
       "      <td>Stone</td>\n",
       "      <td>1952-12-20</td>\n",
       "      <td>Warner Inc</td>\n",
       "      <td>billy14@long-warren.com</td>\n",
       "      <td>3 White pass\\nHunterborough\\nNN96 4UE</td>\n",
       "      <td>United Kingdom</td>\n",
       "      <td>GB</td>\n",
       "      <td>0121 496 0225</td>\n",
       "      <td>2006-09-01</td>\n",
       "      <td>9523a6d3-b2dd-4670-a51a-36aebc89f579</td>\n",
       "    </tr>\n",
       "  </tbody>\n",
       "</table>\n",
       "</div>"
      ],
      "text/plain": [
       "      first_name last_name date_of_birth                    company  \\\n",
       "index                                                                 \n",
       "0       Sigfried     Noack    1990-09-30         Heydrich Junitz KG   \n",
       "1            Guy     Allen    1940-12-01                    Fox Ltd   \n",
       "2          Harry  Lawrence    1995-08-02  Johnson, Jones and Harris   \n",
       "3         Darren   Hussain    1972-09-23                Wheeler LLC   \n",
       "4          Garry     Stone    1952-12-20                 Warner Inc   \n",
       "\n",
       "                      email_address  \\\n",
       "index                                 \n",
       "0                 rudi79@winkler.de   \n",
       "1      rhodesclifford@henderson.com   \n",
       "2      glen98@bryant-marshall.co.uk   \n",
       "3        daniellebryan@thompson.org   \n",
       "4           billy14@long-warren.com   \n",
       "\n",
       "                                                 address         country  \\\n",
       "index                                                                      \n",
       "0                           Zimmerstr. 1/0\\n59015 Gießen         Germany   \n",
       "1      Studio 22a\\nLynne terrace\\nMcCarthymouth\\nTF0 9GH  United Kingdom   \n",
       "2                     92 Ann drive\\nJoanborough\\nSK0 6LR  United Kingdom   \n",
       "3                 19 Robinson meadow\\nNew Tracy\\nW22 2QG  United Kingdom   \n",
       "4                  3 White pass\\nHunterborough\\nNN96 4UE  United Kingdom   \n",
       "\n",
       "      country_code       phone_number   join_date  \\\n",
       "index                                               \n",
       "0               DE   +49(0) 047905356  2018-10-10   \n",
       "1               GB    (0161) 496 0674  2001-12-20   \n",
       "2               GB  +44(0)121 4960340  2016-12-16   \n",
       "3               GB    (0306) 999 0871  2004-02-23   \n",
       "4               GB      0121 496 0225  2006-09-01   \n",
       "\n",
       "                                  user_uuid  \n",
       "index                                        \n",
       "0      93caf182-e4e9-4c6e-bebb-60a1a9dcf9b8  \n",
       "1      8fe96c3a-d62d-4eb5-b313-cf12d9126a49  \n",
       "2      fc461df4-b919-48b2-909e-55c95a03fe6b  \n",
       "3      6104719f-ef14-4b09-bf04-fb0c4620acb0  \n",
       "4      9523a6d3-b2dd-4670-a51a-36aebc89f579  "
      ]
     },
     "execution_count": 69,
     "metadata": {},
     "output_type": "execute_result"
    }
   ],
   "source": [
    "df_testing.head()"
   ]
  },
  {
   "cell_type": "code",
   "execution_count": 70,
   "metadata": {},
   "outputs": [
    {
     "name": "stdout",
     "output_type": "stream",
     "text": [
      "index\n"
     ]
    }
   ],
   "source": [
    "print(df_testing.index.name)"
   ]
  },
  {
   "cell_type": "code",
   "execution_count": 71,
   "metadata": {},
   "outputs": [
    {
     "name": "stdout",
     "output_type": "stream",
     "text": [
      "      first_name last_name date_of_birth company email_address address  \\\n",
      "index                                                                    \n",
      "867         NULL      NULL          NULL    NULL          NULL    NULL   \n",
      "1023        NULL      NULL          NULL    NULL          NULL    NULL   \n",
      "1807        NULL      NULL          NULL    NULL          NULL    NULL   \n",
      "2103        NULL      NULL          NULL    NULL          NULL    NULL   \n",
      "2439        NULL      NULL          NULL    NULL          NULL    NULL   \n",
      "6526        NULL      NULL          NULL    NULL          NULL    NULL   \n",
      "2764        NULL      NULL          NULL    NULL          NULL    NULL   \n",
      "4987        NULL      NULL          NULL    NULL          NULL    NULL   \n",
      "5310        NULL      NULL          NULL    NULL          NULL    NULL   \n",
      "6927        NULL      NULL          NULL    NULL          NULL    NULL   \n",
      "7747        NULL      NULL          NULL    NULL          NULL    NULL   \n",
      "10025       NULL      NULL          NULL    NULL          NULL    NULL   \n",
      "10237       NULL      NULL          NULL    NULL          NULL    NULL   \n",
      "11002       NULL      NULL          NULL    NULL          NULL    NULL   \n",
      "11459       NULL      NULL          NULL    NULL          NULL    NULL   \n",
      "11615       NULL      NULL          NULL    NULL          NULL    NULL   \n",
      "11778       NULL      NULL          NULL    NULL          NULL    NULL   \n",
      "11881       NULL      NULL          NULL    NULL          NULL    NULL   \n",
      "12110       NULL      NULL          NULL    NULL          NULL    NULL   \n",
      "12606       NULL      NULL          NULL    NULL          NULL    NULL   \n",
      "13879       NULL      NULL          NULL    NULL          NULL    NULL   \n",
      "\n",
      "      country country_code phone_number join_date user_uuid  \n",
      "index                                                        \n",
      "867      NULL         NULL         NULL      NULL      NULL  \n",
      "1023     NULL         NULL         NULL      NULL      NULL  \n",
      "1807     NULL         NULL         NULL      NULL      NULL  \n",
      "2103     NULL         NULL         NULL      NULL      NULL  \n",
      "2439     NULL         NULL         NULL      NULL      NULL  \n",
      "6526     NULL         NULL         NULL      NULL      NULL  \n",
      "2764     NULL         NULL         NULL      NULL      NULL  \n",
      "4987     NULL         NULL         NULL      NULL      NULL  \n",
      "5310     NULL         NULL         NULL      NULL      NULL  \n",
      "6927     NULL         NULL         NULL      NULL      NULL  \n",
      "7747     NULL         NULL         NULL      NULL      NULL  \n",
      "10025    NULL         NULL         NULL      NULL      NULL  \n",
      "10237    NULL         NULL         NULL      NULL      NULL  \n",
      "11002    NULL         NULL         NULL      NULL      NULL  \n",
      "11459    NULL         NULL         NULL      NULL      NULL  \n",
      "11615    NULL         NULL         NULL      NULL      NULL  \n",
      "11778    NULL         NULL         NULL      NULL      NULL  \n",
      "11881    NULL         NULL         NULL      NULL      NULL  \n",
      "12110    NULL         NULL         NULL      NULL      NULL  \n",
      "12606    NULL         NULL         NULL      NULL      NULL  \n",
      "13879    NULL         NULL         NULL      NULL      NULL  \n"
     ]
    }
   ],
   "source": [
    "null_info = df_testing[(df_testing['country']=='NULL')]\n",
    "print(null_info)"
   ]
  },
  {
   "cell_type": "code",
   "execution_count": 72,
   "metadata": {},
   "outputs": [
    {
     "name": "stdout",
     "output_type": "stream",
     "text": [
      "United Kingdom    9371\n",
      "Germany           4708\n",
      "United States     1205\n",
      "Name: country, dtype: int64\n"
     ]
    }
   ],
   "source": [
    "df_testing = df_testing.drop(null_info.index)\n",
    "print(df_testing['country'].value_counts())"
   ]
  },
  {
   "cell_type": "code",
   "execution_count": 76,
   "metadata": {},
   "outputs": [
    {
     "name": "stdout",
     "output_type": "stream",
     "text": [
      "<class 'pandas.core.series.Series'>\n",
      "Int64Index: 15284 entries, 0 to 1249\n",
      "Series name: country\n",
      "Non-Null Count  Dtype   \n",
      "--------------  -----   \n",
      "15284 non-null  category\n",
      "dtypes: category(1)\n",
      "memory usage: 134.5 KB\n",
      "None\n",
      "<class 'pandas.core.series.Series'>\n",
      "Int64Index: 15284 entries, 0 to 1249\n",
      "Series name: country_code\n",
      "Non-Null Count  Dtype \n",
      "--------------  ----- \n",
      "15284 non-null  object\n",
      "dtypes: object(1)\n",
      "memory usage: 238.8+ KB\n",
      "None\n",
      "<class 'pandas.core.series.Series'>\n",
      "Int64Index: 15284 entries, 0 to 1249\n",
      "Series name: company\n",
      "Non-Null Count  Dtype \n",
      "--------------  ----- \n",
      "15284 non-null  object\n",
      "dtypes: object(1)\n",
      "memory usage: 238.8+ KB\n",
      "None\n"
     ]
    }
   ],
   "source": [
    "print(df_testing['country'].info())\n",
    "print(df_testing['country_code'].info())\n",
    "print(df_testing['company'].info())"
   ]
  },
  {
   "cell_type": "code",
   "execution_count": 77,
   "metadata": {},
   "outputs": [
    {
     "name": "stdout",
     "output_type": "stream",
     "text": [
      "<class 'pandas.core.series.Series'>\n",
      "Int64Index: 15284 entries, 0 to 1249\n",
      "Series name: country\n",
      "Non-Null Count  Dtype   \n",
      "--------------  -----   \n",
      "15284 non-null  category\n",
      "dtypes: category(1)\n",
      "memory usage: 134.5 KB\n",
      "None\n",
      "<class 'pandas.core.series.Series'>\n",
      "Int64Index: 15284 entries, 0 to 1249\n",
      "Series name: country_code\n",
      "Non-Null Count  Dtype   \n",
      "--------------  -----   \n",
      "15284 non-null  category\n",
      "dtypes: category(1)\n",
      "memory usage: 134.5 KB\n",
      "None\n",
      "<class 'pandas.core.series.Series'>\n",
      "Int64Index: 15284 entries, 0 to 1249\n",
      "Series name: company\n",
      "Non-Null Count  Dtype   \n",
      "--------------  -----   \n",
      "15284 non-null  category\n",
      "dtypes: category(1)\n",
      "memory usage: 501.7 KB\n",
      "None\n"
     ]
    }
   ],
   "source": [
    "df_testing['country'] = df_testing['country'].astype('category')\n",
    "df_testing['country_code'] = df_testing['country_code'].astype('category')\n",
    "df_testing['company'] = df_testing['company'].astype('category')\n",
    "\n",
    "print(df_testing['country'].info())\n",
    "print(df_testing['country_code'].info())\n",
    "print(df_testing['company'].info())"
   ]
  },
  {
   "cell_type": "code",
   "execution_count": 75,
   "metadata": {},
   "outputs": [
    {
     "data": {
      "text/plain": [
       "count         15284\n",
       "unique        12089\n",
       "top       Smith Inc\n",
       "freq             22\n",
       "Name: company, dtype: object"
      ]
     },
     "execution_count": 75,
     "metadata": {},
     "output_type": "execute_result"
    }
   ],
   "source": [
    "df_testing['company'].describe()"
   ]
  },
  {
   "cell_type": "code",
   "execution_count": 78,
   "metadata": {},
   "outputs": [
    {
     "name": "stdout",
     "output_type": "stream",
     "text": [
      "<class 'pandas.core.series.Series'>\n",
      "Int64Index: 15284 entries, 0 to 1249\n",
      "Series name: date_of_birth\n",
      "Non-Null Count  Dtype \n",
      "--------------  ----- \n",
      "15284 non-null  object\n",
      "dtypes: object(1)\n",
      "memory usage: 238.8+ KB\n"
     ]
    }
   ],
   "source": [
    "df_testing['date_of_birth'].info()"
   ]
  },
  {
   "cell_type": "code",
   "execution_count": 79,
   "metadata": {},
   "outputs": [
    {
     "data": {
      "text/plain": [
       "count          15284\n",
       "unique         11344\n",
       "top       1958-02-02\n",
       "freq               6\n",
       "Name: date_of_birth, dtype: object"
      ]
     },
     "execution_count": 79,
     "metadata": {},
     "output_type": "execute_result"
    }
   ],
   "source": [
    "df_testing['date_of_birth'].describe()"
   ]
  },
  {
   "cell_type": "code",
   "execution_count": 83,
   "metadata": {},
   "outputs": [
    {
     "name": "stdout",
     "output_type": "stream",
     "text": [
      "index\n",
      "5            277-664-6389x8405\n",
      "27          (987)576-3015x3130\n",
      "35           723-654-4681x6799\n",
      "38            872.200.3110x563\n",
      "61          174-394-0081x22030\n",
      "                 ...          \n",
      "15240       237-753-6415x89234\n",
      "15253    001-824-578-8658x6744\n",
      "15289        191.040.0076x2520\n",
      "773        +1-946-020-6951x300\n",
      "12523     001-529-002-6940x260\n",
      "Name: phone_number, Length: 695, dtype: object\n"
     ]
    }
   ],
   "source": [
    "phone_num_info = df_testing['phone_number'].str.contains('x')\n",
    "phone_num_info2 = df_testing[phone_num_info]\n",
    "phone_num_info2 = phone_num_info2['phone_number'].str.strip('x')\n",
    "print(phone_num_info2['phone_number'])"
   ]
  },
  {
   "cell_type": "code",
   "execution_count": null,
   "metadata": {},
   "outputs": [],
   "source": []
  }
 ],
 "metadata": {
  "kernelspec": {
   "display_name": "base",
   "language": "python",
   "name": "python3"
  },
  "language_info": {
   "codemirror_mode": {
    "name": "ipython",
    "version": 3
   },
   "file_extension": ".py",
   "mimetype": "text/x-python",
   "name": "python",
   "nbconvert_exporter": "python",
   "pygments_lexer": "ipython3",
   "version": "3.9.12"
  },
  "orig_nbformat": 4,
  "vscode": {
   "interpreter": {
    "hash": "e8d3c120015de8db85a9d1895539fee80a7625eb9cdbbd28cb48911946c7f5a9"
   }
  }
 },
 "nbformat": 4,
 "nbformat_minor": 2
}
